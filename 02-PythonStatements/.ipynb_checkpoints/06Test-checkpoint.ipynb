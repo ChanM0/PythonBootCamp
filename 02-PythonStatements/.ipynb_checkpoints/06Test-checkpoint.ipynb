{
 "cells": [
  {
   "cell_type": "markdown",
   "metadata": {},
   "source": [
    "# Statement Assessment Test\n",
    "Let's test your knowledge!"
   ]
  },
  {
   "cell_type": "markdown",
   "metadata": {},
   "source": [
    "#### use for,.split() and if to create a Statement that will print out the words that start with 's'"
   ]
  },
  {
   "cell_type": "code",
   "execution_count": 42,
   "metadata": {},
   "outputs": [],
   "source": [
    "st = 'Print only the words that start with s in this sentence'"
   ]
  },
  {
   "cell_type": "code",
   "execution_count": 43,
   "metadata": {},
   "outputs": [],
   "source": [
    "st = st.split()"
   ]
  },
  {
   "cell_type": "code",
   "execution_count": 22,
   "metadata": {},
   "outputs": [
    {
     "name": "stdout",
     "output_type": "stream",
     "text": [
      "start\n",
      "s\n",
      "sentence\n"
     ]
    }
   ],
   "source": [
    "for word in st:\n",
    "    if(word[0] == 's'):\n",
    "        print(word)"
   ]
  },
  {
   "cell_type": "code",
   "execution_count": 44,
   "metadata": {},
   "outputs": [
    {
     "name": "stdout",
     "output_type": "stream",
     "text": [
      "start\n",
      "s\n",
      "sentence\n"
     ]
    },
    {
     "data": {
      "text/plain": [
       "[None, None, None]"
      ]
     },
     "execution_count": 44,
     "metadata": {},
     "output_type": "execute_result"
    }
   ],
   "source": [
    "[print(word)for word in st if word[0]=='s']"
   ]
  },
  {
   "cell_type": "markdown",
   "metadata": {},
   "source": [
    "#### Use range() to print all the even numbers from 0 to 10"
   ]
  },
  {
   "cell_type": "code",
   "execution_count": 46,
   "metadata": {},
   "outputs": [
    {
     "name": "stdout",
     "output_type": "stream",
     "text": [
      "0\n",
      "2\n",
      "4\n",
      "6\n",
      "8\n"
     ]
    }
   ],
   "source": [
    "for num in range(0,10):\n",
    "    if(num%2==0):\n",
    "        print(num)"
   ]
  },
  {
   "cell_type": "code",
   "execution_count": 47,
   "metadata": {},
   "outputs": [
    {
     "name": "stdout",
     "output_type": "stream",
     "text": [
      "0\n",
      "2\n",
      "4\n",
      "6\n",
      "8\n"
     ]
    }
   ],
   "source": [
    "for num in range(0,10,2):\n",
    "    print(num)\n",
    "        "
   ]
  },
  {
   "cell_type": "code",
   "execution_count": 48,
   "metadata": {},
   "outputs": [
    {
     "name": "stdout",
     "output_type": "stream",
     "text": [
      "0\n",
      "2\n",
      "4\n",
      "6\n",
      "8\n"
     ]
    },
    {
     "data": {
      "text/plain": [
       "[None, None, None, None, None]"
      ]
     },
     "execution_count": 48,
     "metadata": {},
     "output_type": "execute_result"
    }
   ],
   "source": [
    "[print(num) for num in range(0,10) if num%2==0 ]"
   ]
  },
  {
   "cell_type": "markdown",
   "metadata": {},
   "source": [
    "#### Use a list Comprehension to create a list of all numbers between 1 and 50 that are divisable by 3"
   ]
  },
  {
   "cell_type": "code",
   "execution_count": 51,
   "metadata": {},
   "outputs": [
    {
     "name": "stdout",
     "output_type": "stream",
     "text": [
      "[3, 6, 9, 12, 15, 18, 21, 24, 27, 30, 33, 36, 39, 42, 45, 48]\n"
     ]
    }
   ],
   "source": [
    "list1 = []\n",
    "list1 = [num for num in range(1,50) if num%3==0]\n",
    "print(list1)"
   ]
  },
  {
   "cell_type": "markdown",
   "metadata": {},
   "source": [
    "#### Go through the string below and if the length "
   ]
  },
  {
   "cell_type": "code",
   "execution_count": 14,
   "metadata": {},
   "outputs": [],
   "source": [
    "st = 'Print every word in this sentence that has an even number of letters'"
   ]
  },
  {
   "cell_type": "code",
   "execution_count": 15,
   "metadata": {},
   "outputs": [
    {
     "name": "stdout",
     "output_type": "stream",
     "text": [
      "word\n",
      "in\n",
      "this\n",
      "sentence\n",
      "that\n",
      "an\n",
      "even\n",
      "number\n",
      "of\n"
     ]
    }
   ],
   "source": [
    "st = st.split()\n",
    "\n",
    "for word in st:\n",
    "    if(len(word)%2==0):\n",
    "        print(word)"
   ]
  },
  {
   "cell_type": "markdown",
   "metadata": {},
   "source": [
    "#### Wrtie a program that prints the integers from 1 to 100. But for multiples of three print \"Fizz\" instead of the number, and for the multiples of five print \"Buzz\". For number which are multiples of both three and five print \"Fizz Buzz\""
   ]
  },
  {
   "cell_type": "code",
   "execution_count": 26,
   "metadata": {},
   "outputs": [
    {
     "name": "stdout",
     "output_type": "stream",
     "text": [
      "Fizz: 3\n",
      "Buzz: 5\n",
      "Fizz: 6\n",
      "Fizz: 9\n",
      "Buzz: 10\n",
      "Fizz: 12\n",
      "FizzBuzz: 15\n",
      "Fizz: 18\n",
      "Buzz: 20\n",
      "Fizz: 21\n",
      "Fizz: 24\n",
      "Buzz: 25\n",
      "Fizz: 27\n",
      "FizzBuzz: 30\n",
      "Fizz: 33\n",
      "Buzz: 35\n",
      "Fizz: 36\n",
      "Fizz: 39\n",
      "Buzz: 40\n",
      "Fizz: 42\n",
      "FizzBuzz: 45\n",
      "Fizz: 48\n",
      "Buzz: 50\n",
      "Fizz: 51\n",
      "Fizz: 54\n",
      "Buzz: 55\n",
      "Fizz: 57\n",
      "FizzBuzz: 60\n",
      "Fizz: 63\n",
      "Buzz: 65\n",
      "Fizz: 66\n",
      "Fizz: 69\n",
      "Buzz: 70\n",
      "Fizz: 72\n",
      "FizzBuzz: 75\n",
      "Fizz: 78\n",
      "Buzz: 80\n",
      "Fizz: 81\n",
      "Fizz: 84\n",
      "Buzz: 85\n",
      "Fizz: 87\n",
      "FizzBuzz: 90\n",
      "Fizz: 93\n",
      "Buzz: 95\n",
      "Fizz: 96\n",
      "Fizz: 99\n"
     ]
    }
   ],
   "source": [
    "for num in range(1,100):\n",
    "    if(num%3==0 and num%5==0):\n",
    "        print(f\"FizzBuzz: {num}\")\n",
    "    elif(num%3==0):\n",
    "        print(f\"Fizz: {num}\")\n",
    "    elif(num%5==0):\n",
    "        print(f\"Buzz: {num}\")\n",
    "    else:\n",
    "         print(f\"{num}\")"
   ]
  },
  {
   "cell_type": "code",
   "execution_count": null,
   "metadata": {},
   "outputs": [],
   "source": []
  }
 ],
 "metadata": {
  "kernelspec": {
   "display_name": "Python 3",
   "language": "python",
   "name": "python3"
  },
  "language_info": {
   "codemirror_mode": {
    "name": "ipython",
    "version": 3
   },
   "file_extension": ".py",
   "mimetype": "text/x-python",
   "name": "python",
   "nbconvert_exporter": "python",
   "pygments_lexer": "ipython3",
   "version": "3.6.5"
  }
 },
 "nbformat": 4,
 "nbformat_minor": 2
}
