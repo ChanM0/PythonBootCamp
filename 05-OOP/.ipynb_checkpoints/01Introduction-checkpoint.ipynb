{
 "cells": [
  {
   "cell_type": "markdown",
   "metadata": {},
   "source": [
    "# Object Oriented Programming \n",
    "## Syntax\n",
    "---\n",
    "\n",
    "```class NameOfClass():\n",
    "    def _init_self,param1,param2\n",
    "        self.param1=param1\n",
    "        self.param2=param2\n",
    "    def some_method(self):\n",
    "        print(self.param1)```\n",
    "\n",
    "\n",
    "\\_init\\_ is like a constructor allows you to create the insatnce of the object\n",
    "\n",
    "need to pass in param _self_ to allow the function to know that this method is apart of this class\n"
   ]
  },
  {
   "cell_type": "code",
   "execution_count": null,
   "metadata": {},
   "outputs": [],
   "source": []
  }
 ],
 "metadata": {
  "kernelspec": {
   "display_name": "Python 3",
   "language": "python",
   "name": "python3"
  },
  "language_info": {
   "codemirror_mode": {
    "name": "ipython",
    "version": 3
   },
   "file_extension": ".py",
   "mimetype": "text/x-python",
   "name": "python",
   "nbconvert_exporter": "python",
   "pygments_lexer": "ipython3",
   "version": "3.6.5"
  }
 },
 "nbformat": 4,
 "nbformat_minor": 2
}
