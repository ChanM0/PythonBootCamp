{
 "cells": [
  {
   "cell_type": "markdown",
   "metadata": {},
   "source": [
    "# LEGB Rule:\n",
    "- L: \n",
    "    - Local\n",
    "        - Names assigned in any way within a function (def or lambda ), are not declared global in that function\n",
    "    - Example\n",
    "        - ```lambda num:num**2```\n",
    "    \n",
    "- E: \n",
    "    - Enclosing Function Locals\n",
    "        - Names in the local scope of any and all enclosing functions (def or lambda), from inner to outer\n",
    "    - Example:\n",
    "        - GLOBAL\n",
    "        - name='this is a global string'\n",
    "        - def greet(): ENCLOSING\n",
    "            - name=\"Sammy\n",
    "            - def hello(): LOCAL\n",
    "                - print('Hello '+ name)\"\n",
    "            - hello()\n",
    "        - greet()\n",
    "- G: Global (Module)\n",
    "    - Names assigned at the top-level of a module file, or declared global in a def within the file\n",
    "- B: Built-in (Python)\n",
    "    - Names preassinged in the built-in names module : open, range, SyntaxError... "
   ]
  },
  {
   "cell_type": "code",
   "execution_count": 21,
   "metadata": {},
   "outputs": [],
   "source": [
    "x = 25\n",
    "\n",
    "def printer():\n",
    "    x = 50\n",
    "    return x"
   ]
  },
  {
   "cell_type": "code",
   "execution_count": 22,
   "metadata": {},
   "outputs": [
    {
     "name": "stdout",
     "output_type": "stream",
     "text": [
      "25\n"
     ]
    }
   ],
   "source": [
    "print(x)"
   ]
  },
  {
   "cell_type": "code",
   "execution_count": 23,
   "metadata": {},
   "outputs": [
    {
     "name": "stdout",
     "output_type": "stream",
     "text": [
      "50\n"
     ]
    }
   ],
   "source": [
    "print(printer())"
   ]
  },
  {
   "cell_type": "code",
   "execution_count": 24,
   "metadata": {},
   "outputs": [
    {
     "name": "stdout",
     "output_type": "stream",
     "text": [
      "25\n"
     ]
    }
   ],
   "source": [
    "print(x)"
   ]
  },
  {
   "cell_type": "code",
   "execution_count": 32,
   "metadata": {},
   "outputs": [
    {
     "name": "stdout",
     "output_type": "stream",
     "text": [
      "X is 100\n",
      "I just localy changed x : 200\n"
     ]
    }
   ],
   "source": [
    "x = 50\n",
    "def func(x):\n",
    "    print(f'X is {x}')\n",
    "    x = 200 \n",
    "    print(f'I just localy changed x : {x}')\n",
    "func(100)"
   ]
  },
  {
   "cell_type": "code",
   "execution_count": 37,
   "metadata": {},
   "outputs": [
    {
     "name": "stdout",
     "output_type": "stream",
     "text": [
      "X is 50\n",
      "I just localy changed global x : 200\n",
      "X is 200\n"
     ]
    }
   ],
   "source": [
    "x = 50\n",
    "def func():\n",
    "    global x\n",
    "    print(f'X is {x}')\n",
    "    x = 200 \n",
    "    print(f'I just localy changed global x : {x}')\n",
    "func()\n",
    "print(f'X is {x}')"
   ]
  },
  {
   "cell_type": "code",
   "execution_count": null,
   "metadata": {},
   "outputs": [],
   "source": [
    "pri"
   ]
  }
 ],
 "metadata": {
  "kernelspec": {
   "display_name": "Python 3",
   "language": "python",
   "name": "python3"
  },
  "language_info": {
   "codemirror_mode": {
    "name": "ipython",
    "version": 3
   },
   "file_extension": ".py",
   "mimetype": "text/x-python",
   "name": "python",
   "nbconvert_exporter": "python",
   "pygments_lexer": "ipython3",
   "version": "3.6.5"
  }
 },
 "nbformat": 4,
 "nbformat_minor": 2
}
